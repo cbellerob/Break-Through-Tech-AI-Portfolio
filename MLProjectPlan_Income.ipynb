{
  "cells": [
    {
      "cell_type": "markdown",
      "metadata": {
        "id": "WAvUGB4ev6Nn"
      },
      "source": [
        "# Lab 8: Implement Your Machine Learning Project Plan"
      ]
    },
    {
      "cell_type": "markdown",
      "metadata": {
        "id": "1gg-36WUv6No"
      },
      "source": [
        "In this lab assignment, you will implement the machine learning project plan you created in the written assignment. You will:\n",
        "\n",
        "1. Load your data set and save it to a Pandas DataFrame.\n",
        "2. Perform exploratory data analysis on your data to determine which feature engineering and data preparation techniques you will use.\n",
        "3. Prepare your data for your model and create features and a label.\n",
        "4. Fit your model to the training data and evaluate your model.\n",
        "5. Improve your model by performing model selection and/or feature selection techniques to find best model for your problem."
      ]
    },
    {
      "cell_type": "markdown",
      "metadata": {
        "id": "MAidnUvdv6Np"
      },
      "source": [
        "### Import Packages\n",
        "\n",
        "Before you get started, import a few packages."
      ]
    },
    {
      "cell_type": "code",
      "execution_count": 4,
      "metadata": {
        "id": "NIoWuQWqv6Np"
      },
      "outputs": [],
      "source": [
        "import pandas as pd\n",
        "import numpy as np\n",
        "import os\n",
        "import matplotlib.pyplot as plt\n",
        "import seaborn as sns"
      ]
    },
    {
      "cell_type": "markdown",
      "metadata": {
        "id": "NEjGffg2v6Nq"
      },
      "source": [
        "<b>Task:</b> In the code cell below, import additional packages that you have used in this course that you will need for this task."
      ]
    },
    {
      "cell_type": "code",
      "execution_count": 5,
      "metadata": {
        "id": "4ENwGr1Lv6Nq"
      },
      "outputs": [],
      "source": [
        "from sklearn.linear_model import LogisticRegression\n",
        "from sklearn.preprocessing import OneHotEncoder\n",
        "from sklearn.model_selection import train_test_split, GridSearchCV\n",
        "\n",
        "from sklearn.metrics import log_loss, accuracy_score, confusion_matrix, roc_curve\n",
        "\n",
        "from sklearn.svm import l1_min_c"
      ]
    },
    {
      "cell_type": "markdown",
      "metadata": {
        "id": "A8-U48Zkv6Nq"
      },
      "source": [
        "## Part 1: Load the Data Set\n",
        "\n",
        "\n",
        "You have chosen to work with one of four data sets. The data sets are located in a folder named \"data.\" The file names of the three data sets are as follows:\n",
        "\n",
        "* The \"adult\" data set that contains Census information from 1994 is located in file `adultData.csv`\n",
        "* The airbnb NYC \"listings\" data set is located in file  `airbnbListingsData.csv`\n",
        "* The World Happiness Report (WHR) data set is located in file `WHR2018Chapter2OnlineData.csv`\n",
        "* The book review data set is located in file `bookReviewsData.csv`\n",
        "\n",
        "\n",
        "\n",
        "<b>Task:</b> In the code cell below, use the same method you have been using to load your data using `pd.read_csv()` and save it to DataFrame `df`."
      ]
    },
    {
      "cell_type": "code",
      "execution_count": 6,
      "metadata": {
        "colab": {
          "base_uri": "https://localhost:8080/",
          "height": 206
        },
        "id": "P-H9HfIrv6Nr",
        "outputId": "0645cbd2-857a-4484-cbfd-fbee3c84b1d6"
      },
      "outputs": [
        {
          "data": {
            "text/html": [
              "<div>\n",
              "<style scoped>\n",
              "    .dataframe tbody tr th:only-of-type {\n",
              "        vertical-align: middle;\n",
              "    }\n",
              "\n",
              "    .dataframe tbody tr th {\n",
              "        vertical-align: top;\n",
              "    }\n",
              "\n",
              "    .dataframe thead th {\n",
              "        text-align: right;\n",
              "    }\n",
              "</style>\n",
              "<table border=\"1\" class=\"dataframe\">\n",
              "  <thead>\n",
              "    <tr style=\"text-align: right;\">\n",
              "      <th></th>\n",
              "      <th>age</th>\n",
              "      <th>workclass</th>\n",
              "      <th>fnlwgt</th>\n",
              "      <th>education</th>\n",
              "      <th>education-num</th>\n",
              "      <th>marital-status</th>\n",
              "      <th>occupation</th>\n",
              "      <th>relationship</th>\n",
              "      <th>race</th>\n",
              "      <th>sex_selfID</th>\n",
              "      <th>capital-gain</th>\n",
              "      <th>capital-loss</th>\n",
              "      <th>hours-per-week</th>\n",
              "      <th>native-country</th>\n",
              "      <th>income_binary</th>\n",
              "    </tr>\n",
              "  </thead>\n",
              "  <tbody>\n",
              "    <tr>\n",
              "      <th>0</th>\n",
              "      <td>39.0</td>\n",
              "      <td>State-gov</td>\n",
              "      <td>77516</td>\n",
              "      <td>Bachelors</td>\n",
              "      <td>13</td>\n",
              "      <td>Never-married</td>\n",
              "      <td>Adm-clerical</td>\n",
              "      <td>Not-in-family</td>\n",
              "      <td>White</td>\n",
              "      <td>Non-Female</td>\n",
              "      <td>2174</td>\n",
              "      <td>0</td>\n",
              "      <td>40.0</td>\n",
              "      <td>United-States</td>\n",
              "      <td>&lt;=50K</td>\n",
              "    </tr>\n",
              "    <tr>\n",
              "      <th>1</th>\n",
              "      <td>50.0</td>\n",
              "      <td>Self-emp-not-inc</td>\n",
              "      <td>83311</td>\n",
              "      <td>Bachelors</td>\n",
              "      <td>13</td>\n",
              "      <td>Married-civ-spouse</td>\n",
              "      <td>Exec-managerial</td>\n",
              "      <td>Husband</td>\n",
              "      <td>White</td>\n",
              "      <td>Non-Female</td>\n",
              "      <td>0</td>\n",
              "      <td>0</td>\n",
              "      <td>13.0</td>\n",
              "      <td>United-States</td>\n",
              "      <td>&lt;=50K</td>\n",
              "    </tr>\n",
              "    <tr>\n",
              "      <th>2</th>\n",
              "      <td>38.0</td>\n",
              "      <td>Private</td>\n",
              "      <td>215646</td>\n",
              "      <td>HS-grad</td>\n",
              "      <td>9</td>\n",
              "      <td>Divorced</td>\n",
              "      <td>Handlers-cleaners</td>\n",
              "      <td>Not-in-family</td>\n",
              "      <td>White</td>\n",
              "      <td>Non-Female</td>\n",
              "      <td>0</td>\n",
              "      <td>0</td>\n",
              "      <td>40.0</td>\n",
              "      <td>United-States</td>\n",
              "      <td>&lt;=50K</td>\n",
              "    </tr>\n",
              "    <tr>\n",
              "      <th>3</th>\n",
              "      <td>53.0</td>\n",
              "      <td>Private</td>\n",
              "      <td>234721</td>\n",
              "      <td>11th</td>\n",
              "      <td>7</td>\n",
              "      <td>Married-civ-spouse</td>\n",
              "      <td>Handlers-cleaners</td>\n",
              "      <td>Husband</td>\n",
              "      <td>Black</td>\n",
              "      <td>Non-Female</td>\n",
              "      <td>0</td>\n",
              "      <td>0</td>\n",
              "      <td>40.0</td>\n",
              "      <td>United-States</td>\n",
              "      <td>&lt;=50K</td>\n",
              "    </tr>\n",
              "    <tr>\n",
              "      <th>4</th>\n",
              "      <td>28.0</td>\n",
              "      <td>Private</td>\n",
              "      <td>338409</td>\n",
              "      <td>Bachelors</td>\n",
              "      <td>13</td>\n",
              "      <td>Married-civ-spouse</td>\n",
              "      <td>Prof-specialty</td>\n",
              "      <td>Wife</td>\n",
              "      <td>Black</td>\n",
              "      <td>Female</td>\n",
              "      <td>0</td>\n",
              "      <td>0</td>\n",
              "      <td>40.0</td>\n",
              "      <td>Cuba</td>\n",
              "      <td>&lt;=50K</td>\n",
              "    </tr>\n",
              "  </tbody>\n",
              "</table>\n",
              "</div>"
            ],
            "text/plain": [
              "    age         workclass  fnlwgt  education  education-num  \\\n",
              "0  39.0         State-gov   77516  Bachelors             13   \n",
              "1  50.0  Self-emp-not-inc   83311  Bachelors             13   \n",
              "2  38.0           Private  215646    HS-grad              9   \n",
              "3  53.0           Private  234721       11th              7   \n",
              "4  28.0           Private  338409  Bachelors             13   \n",
              "\n",
              "       marital-status         occupation   relationship   race  sex_selfID  \\\n",
              "0       Never-married       Adm-clerical  Not-in-family  White  Non-Female   \n",
              "1  Married-civ-spouse    Exec-managerial        Husband  White  Non-Female   \n",
              "2            Divorced  Handlers-cleaners  Not-in-family  White  Non-Female   \n",
              "3  Married-civ-spouse  Handlers-cleaners        Husband  Black  Non-Female   \n",
              "4  Married-civ-spouse     Prof-specialty           Wife  Black      Female   \n",
              "\n",
              "   capital-gain  capital-loss  hours-per-week native-country income_binary  \n",
              "0          2174             0            40.0  United-States         <=50K  \n",
              "1             0             0            13.0  United-States         <=50K  \n",
              "2             0             0            40.0  United-States         <=50K  \n",
              "3             0             0            40.0  United-States         <=50K  \n",
              "4             0             0            40.0           Cuba         <=50K  "
            ]
          },
          "execution_count": 6,
          "metadata": {},
          "output_type": "execute_result"
        }
      ],
      "source": [
        "df = pd.read_csv(\"adultData.csv\")\n",
        "df.head()"
      ]
    },
    {
      "cell_type": "markdown",
      "metadata": {
        "id": "S0_Apztjv6Ns"
      },
      "source": [
        "## Part 2: Exploratory Data Analysis\n",
        "\n",
        "The next step is to inspect and analyze your data set with your machine learning problem and project plan in mind.\n",
        "\n",
        "This step will help you determine data preparation and feature engineering techniques you will need to apply to your data to build a balanced modeling data set for your problem and model. These data preparation techniques may include:\n",
        "* addressing missingness, such as replacing missing values with means\n",
        "* renaming features and labels\n",
        "* finding and replacing outliers\n",
        "* performing winsorization if needed\n",
        "* performing one-hot encoding on categorical features\n",
        "* performing vectorization for an NLP problem\n",
        "* addressing class imbalance in your data sample to promote fair AI\n",
        "\n",
        "\n",
        "Think of the different techniques you have used to inspect and analyze your data in this course. These include using Pandas to apply data filters, using the Pandas `describe()` method to get insight into key statistics for each column, using the Pandas `dtypes` property to inspect the data type of each column, and using Matplotlib and Seaborn to detect outliers and visualize relationships between features and labels. If you are working on a classification problem, use techniques you have learned to determine if there is class imbalance.\n",
        "\n",
        "\n",
        "<b>Task</b>: Use the techniques you have learned in this course to inspect and analyze your data.\n",
        "\n",
        "<b>Note</b>: You can add code cells if needed by going to the <b>Insert</b> menu and clicking on <b>Insert Cell Below</b> in the drop-drown menu."
      ]
    },
    {
      "cell_type": "code",
      "execution_count": 7,
      "metadata": {
        "colab": {
          "base_uri": "https://localhost:8080/"
        },
        "id": "oCkRxv_Lv6Ns",
        "outputId": "76e12c23-d477-4b40-f26e-d6d1dc72a6a5"
      },
      "outputs": [
        {
          "data": {
            "text/plain": [
              "(32561, 15)"
            ]
          },
          "execution_count": 7,
          "metadata": {},
          "output_type": "execute_result"
        }
      ],
      "source": [
        "df.shape"
      ]
    },
    {
      "cell_type": "code",
      "execution_count": 8,
      "metadata": {
        "colab": {
          "base_uri": "https://localhost:8080/"
        },
        "id": "gAmyDKJfv6Ns",
        "outputId": "33f4b091-f87d-42d4-8851-8c244c9c9b87"
      },
      "outputs": [
        {
          "data": {
            "text/plain": [
              "age               float64\n",
              "workclass          object\n",
              "fnlwgt              int64\n",
              "education          object\n",
              "education-num       int64\n",
              "marital-status     object\n",
              "occupation         object\n",
              "relationship       object\n",
              "race               object\n",
              "sex_selfID         object\n",
              "capital-gain        int64\n",
              "capital-loss        int64\n",
              "hours-per-week    float64\n",
              "native-country     object\n",
              "income_binary      object\n",
              "dtype: object"
            ]
          },
          "execution_count": 8,
          "metadata": {},
          "output_type": "execute_result"
        }
      ],
      "source": [
        "df.dtypes"
      ]
    },
    {
      "cell_type": "code",
      "execution_count": 9,
      "metadata": {
        "colab": {
          "base_uri": "https://localhost:8080/",
          "height": 411
        },
        "id": "k9dNvZWsv6Nt",
        "outputId": "6a7a0ab2-2b28-4ff2-fbbd-4395eb6c0b1e"
      },
      "outputs": [
        {
          "data": {
            "text/html": [
              "<div>\n",
              "<style scoped>\n",
              "    .dataframe tbody tr th:only-of-type {\n",
              "        vertical-align: middle;\n",
              "    }\n",
              "\n",
              "    .dataframe tbody tr th {\n",
              "        vertical-align: top;\n",
              "    }\n",
              "\n",
              "    .dataframe thead th {\n",
              "        text-align: right;\n",
              "    }\n",
              "</style>\n",
              "<table border=\"1\" class=\"dataframe\">\n",
              "  <thead>\n",
              "    <tr style=\"text-align: right;\">\n",
              "      <th></th>\n",
              "      <th>age</th>\n",
              "      <th>workclass</th>\n",
              "      <th>fnlwgt</th>\n",
              "      <th>education</th>\n",
              "      <th>education-num</th>\n",
              "      <th>marital-status</th>\n",
              "      <th>occupation</th>\n",
              "      <th>relationship</th>\n",
              "      <th>race</th>\n",
              "      <th>sex_selfID</th>\n",
              "      <th>capital-gain</th>\n",
              "      <th>capital-loss</th>\n",
              "      <th>hours-per-week</th>\n",
              "      <th>native-country</th>\n",
              "      <th>income_binary</th>\n",
              "    </tr>\n",
              "  </thead>\n",
              "  <tbody>\n",
              "    <tr>\n",
              "      <th>count</th>\n",
              "      <td>32399.000000</td>\n",
              "      <td>30725</td>\n",
              "      <td>3.256100e+04</td>\n",
              "      <td>32561</td>\n",
              "      <td>32561.000000</td>\n",
              "      <td>32561</td>\n",
              "      <td>30718</td>\n",
              "      <td>32561</td>\n",
              "      <td>32561</td>\n",
              "      <td>32561</td>\n",
              "      <td>32561.000000</td>\n",
              "      <td>32561.000000</td>\n",
              "      <td>32236.000000</td>\n",
              "      <td>31978</td>\n",
              "      <td>32561</td>\n",
              "    </tr>\n",
              "    <tr>\n",
              "      <th>unique</th>\n",
              "      <td>NaN</td>\n",
              "      <td>8</td>\n",
              "      <td>NaN</td>\n",
              "      <td>16</td>\n",
              "      <td>NaN</td>\n",
              "      <td>7</td>\n",
              "      <td>14</td>\n",
              "      <td>6</td>\n",
              "      <td>5</td>\n",
              "      <td>2</td>\n",
              "      <td>NaN</td>\n",
              "      <td>NaN</td>\n",
              "      <td>NaN</td>\n",
              "      <td>41</td>\n",
              "      <td>2</td>\n",
              "    </tr>\n",
              "    <tr>\n",
              "      <th>top</th>\n",
              "      <td>NaN</td>\n",
              "      <td>Private</td>\n",
              "      <td>NaN</td>\n",
              "      <td>HS-grad</td>\n",
              "      <td>NaN</td>\n",
              "      <td>Married-civ-spouse</td>\n",
              "      <td>Prof-specialty</td>\n",
              "      <td>Husband</td>\n",
              "      <td>White</td>\n",
              "      <td>Non-Female</td>\n",
              "      <td>NaN</td>\n",
              "      <td>NaN</td>\n",
              "      <td>NaN</td>\n",
              "      <td>United-States</td>\n",
              "      <td>&lt;=50K</td>\n",
              "    </tr>\n",
              "    <tr>\n",
              "      <th>freq</th>\n",
              "      <td>NaN</td>\n",
              "      <td>22696</td>\n",
              "      <td>NaN</td>\n",
              "      <td>10501</td>\n",
              "      <td>NaN</td>\n",
              "      <td>14976</td>\n",
              "      <td>4140</td>\n",
              "      <td>13193</td>\n",
              "      <td>27816</td>\n",
              "      <td>21790</td>\n",
              "      <td>NaN</td>\n",
              "      <td>NaN</td>\n",
              "      <td>NaN</td>\n",
              "      <td>29170</td>\n",
              "      <td>24720</td>\n",
              "    </tr>\n",
              "    <tr>\n",
              "      <th>mean</th>\n",
              "      <td>38.589216</td>\n",
              "      <td>NaN</td>\n",
              "      <td>1.897784e+05</td>\n",
              "      <td>NaN</td>\n",
              "      <td>10.080679</td>\n",
              "      <td>NaN</td>\n",
              "      <td>NaN</td>\n",
              "      <td>NaN</td>\n",
              "      <td>NaN</td>\n",
              "      <td>NaN</td>\n",
              "      <td>615.907773</td>\n",
              "      <td>87.303830</td>\n",
              "      <td>40.450428</td>\n",
              "      <td>NaN</td>\n",
              "      <td>NaN</td>\n",
              "    </tr>\n",
              "    <tr>\n",
              "      <th>std</th>\n",
              "      <td>13.647862</td>\n",
              "      <td>NaN</td>\n",
              "      <td>1.055500e+05</td>\n",
              "      <td>NaN</td>\n",
              "      <td>2.572720</td>\n",
              "      <td>NaN</td>\n",
              "      <td>NaN</td>\n",
              "      <td>NaN</td>\n",
              "      <td>NaN</td>\n",
              "      <td>NaN</td>\n",
              "      <td>2420.191974</td>\n",
              "      <td>402.960219</td>\n",
              "      <td>12.353748</td>\n",
              "      <td>NaN</td>\n",
              "      <td>NaN</td>\n",
              "    </tr>\n",
              "    <tr>\n",
              "      <th>min</th>\n",
              "      <td>17.000000</td>\n",
              "      <td>NaN</td>\n",
              "      <td>1.228500e+04</td>\n",
              "      <td>NaN</td>\n",
              "      <td>1.000000</td>\n",
              "      <td>NaN</td>\n",
              "      <td>NaN</td>\n",
              "      <td>NaN</td>\n",
              "      <td>NaN</td>\n",
              "      <td>NaN</td>\n",
              "      <td>0.000000</td>\n",
              "      <td>0.000000</td>\n",
              "      <td>1.000000</td>\n",
              "      <td>NaN</td>\n",
              "      <td>NaN</td>\n",
              "    </tr>\n",
              "    <tr>\n",
              "      <th>25%</th>\n",
              "      <td>28.000000</td>\n",
              "      <td>NaN</td>\n",
              "      <td>1.178270e+05</td>\n",
              "      <td>NaN</td>\n",
              "      <td>9.000000</td>\n",
              "      <td>NaN</td>\n",
              "      <td>NaN</td>\n",
              "      <td>NaN</td>\n",
              "      <td>NaN</td>\n",
              "      <td>NaN</td>\n",
              "      <td>0.000000</td>\n",
              "      <td>0.000000</td>\n",
              "      <td>40.000000</td>\n",
              "      <td>NaN</td>\n",
              "      <td>NaN</td>\n",
              "    </tr>\n",
              "    <tr>\n",
              "      <th>50%</th>\n",
              "      <td>37.000000</td>\n",
              "      <td>NaN</td>\n",
              "      <td>1.783560e+05</td>\n",
              "      <td>NaN</td>\n",
              "      <td>10.000000</td>\n",
              "      <td>NaN</td>\n",
              "      <td>NaN</td>\n",
              "      <td>NaN</td>\n",
              "      <td>NaN</td>\n",
              "      <td>NaN</td>\n",
              "      <td>0.000000</td>\n",
              "      <td>0.000000</td>\n",
              "      <td>40.000000</td>\n",
              "      <td>NaN</td>\n",
              "      <td>NaN</td>\n",
              "    </tr>\n",
              "    <tr>\n",
              "      <th>75%</th>\n",
              "      <td>48.000000</td>\n",
              "      <td>NaN</td>\n",
              "      <td>2.370510e+05</td>\n",
              "      <td>NaN</td>\n",
              "      <td>12.000000</td>\n",
              "      <td>NaN</td>\n",
              "      <td>NaN</td>\n",
              "      <td>NaN</td>\n",
              "      <td>NaN</td>\n",
              "      <td>NaN</td>\n",
              "      <td>0.000000</td>\n",
              "      <td>0.000000</td>\n",
              "      <td>45.000000</td>\n",
              "      <td>NaN</td>\n",
              "      <td>NaN</td>\n",
              "    </tr>\n",
              "    <tr>\n",
              "      <th>max</th>\n",
              "      <td>90.000000</td>\n",
              "      <td>NaN</td>\n",
              "      <td>1.484705e+06</td>\n",
              "      <td>NaN</td>\n",
              "      <td>16.000000</td>\n",
              "      <td>NaN</td>\n",
              "      <td>NaN</td>\n",
              "      <td>NaN</td>\n",
              "      <td>NaN</td>\n",
              "      <td>NaN</td>\n",
              "      <td>14084.000000</td>\n",
              "      <td>4356.000000</td>\n",
              "      <td>99.000000</td>\n",
              "      <td>NaN</td>\n",
              "      <td>NaN</td>\n",
              "    </tr>\n",
              "  </tbody>\n",
              "</table>\n",
              "</div>"
            ],
            "text/plain": [
              "                 age workclass        fnlwgt education  education-num  \\\n",
              "count   32399.000000     30725  3.256100e+04     32561   32561.000000   \n",
              "unique           NaN         8           NaN        16            NaN   \n",
              "top              NaN   Private           NaN   HS-grad            NaN   \n",
              "freq             NaN     22696           NaN     10501            NaN   \n",
              "mean       38.589216       NaN  1.897784e+05       NaN      10.080679   \n",
              "std        13.647862       NaN  1.055500e+05       NaN       2.572720   \n",
              "min        17.000000       NaN  1.228500e+04       NaN       1.000000   \n",
              "25%        28.000000       NaN  1.178270e+05       NaN       9.000000   \n",
              "50%        37.000000       NaN  1.783560e+05       NaN      10.000000   \n",
              "75%        48.000000       NaN  2.370510e+05       NaN      12.000000   \n",
              "max        90.000000       NaN  1.484705e+06       NaN      16.000000   \n",
              "\n",
              "            marital-status      occupation relationship   race  sex_selfID  \\\n",
              "count                32561           30718        32561  32561       32561   \n",
              "unique                   7              14            6      5           2   \n",
              "top     Married-civ-spouse  Prof-specialty      Husband  White  Non-Female   \n",
              "freq                 14976            4140        13193  27816       21790   \n",
              "mean                   NaN             NaN          NaN    NaN         NaN   \n",
              "std                    NaN             NaN          NaN    NaN         NaN   \n",
              "min                    NaN             NaN          NaN    NaN         NaN   \n",
              "25%                    NaN             NaN          NaN    NaN         NaN   \n",
              "50%                    NaN             NaN          NaN    NaN         NaN   \n",
              "75%                    NaN             NaN          NaN    NaN         NaN   \n",
              "max                    NaN             NaN          NaN    NaN         NaN   \n",
              "\n",
              "        capital-gain  capital-loss  hours-per-week native-country  \\\n",
              "count   32561.000000  32561.000000    32236.000000          31978   \n",
              "unique           NaN           NaN             NaN             41   \n",
              "top              NaN           NaN             NaN  United-States   \n",
              "freq             NaN           NaN             NaN          29170   \n",
              "mean      615.907773     87.303830       40.450428            NaN   \n",
              "std      2420.191974    402.960219       12.353748            NaN   \n",
              "min         0.000000      0.000000        1.000000            NaN   \n",
              "25%         0.000000      0.000000       40.000000            NaN   \n",
              "50%         0.000000      0.000000       40.000000            NaN   \n",
              "75%         0.000000      0.000000       45.000000            NaN   \n",
              "max     14084.000000   4356.000000       99.000000            NaN   \n",
              "\n",
              "       income_binary  \n",
              "count          32561  \n",
              "unique             2  \n",
              "top            <=50K  \n",
              "freq           24720  \n",
              "mean             NaN  \n",
              "std              NaN  \n",
              "min              NaN  \n",
              "25%              NaN  \n",
              "50%              NaN  \n",
              "75%              NaN  \n",
              "max              NaN  "
            ]
          },
          "execution_count": 9,
          "metadata": {},
          "output_type": "execute_result"
        }
      ],
      "source": [
        "df.describe(include='all')"
      ]
    },
    {
      "cell_type": "code",
      "execution_count": 10,
      "metadata": {
        "colab": {
          "base_uri": "https://localhost:8080/"
        },
        "id": "5PLvaZDWv6Nt",
        "outputId": "555b46c8-2b00-4bb7-9222-653ffae3d3a2"
      },
      "outputs": [
        {
          "name": "stdout",
          "output_type": "stream",
          "text": [
            "['age', 'workclass', 'education', 'education-num', 'marital-status', 'occupation', 'relationship', 'race', 'sex_selfID', 'capital-gain', 'capital-loss', 'hours-per-week', 'native-country', 'income_binary']\n"
          ]
        }
      ],
      "source": [
        "df.drop(labels='fnlwgt', axis=1, inplace=True)\n",
        "print(str(list(df.columns)))"
      ]
    },
    {
      "cell_type": "code",
      "execution_count": 11,
      "metadata": {
        "colab": {
          "base_uri": "https://localhost:8080/",
          "height": 275
        },
        "id": "PNz1XImov6Nt",
        "outputId": "6e805b34-4ca5-4bf8-fa9b-fbb855b025fb"
      },
      "outputs": [
        {
          "data": {
            "text/html": [
              "<div>\n",
              "<style scoped>\n",
              "    .dataframe tbody tr th:only-of-type {\n",
              "        vertical-align: middle;\n",
              "    }\n",
              "\n",
              "    .dataframe tbody tr th {\n",
              "        vertical-align: top;\n",
              "    }\n",
              "\n",
              "    .dataframe thead th {\n",
              "        text-align: right;\n",
              "    }\n",
              "</style>\n",
              "<table border=\"1\" class=\"dataframe\">\n",
              "  <thead>\n",
              "    <tr style=\"text-align: right;\">\n",
              "      <th></th>\n",
              "      <th>age</th>\n",
              "      <th>workclass</th>\n",
              "      <th>education</th>\n",
              "      <th>education-num</th>\n",
              "      <th>marital-status</th>\n",
              "      <th>occupation</th>\n",
              "      <th>relationship</th>\n",
              "      <th>race</th>\n",
              "      <th>sex_selfID</th>\n",
              "      <th>capital-gain</th>\n",
              "      <th>capital-loss</th>\n",
              "      <th>hours-per-week</th>\n",
              "      <th>native-country</th>\n",
              "      <th>income_binary</th>\n",
              "      <th>label_income_binary</th>\n",
              "    </tr>\n",
              "  </thead>\n",
              "  <tbody>\n",
              "    <tr>\n",
              "      <th>0</th>\n",
              "      <td>39.0</td>\n",
              "      <td>State-gov</td>\n",
              "      <td>Bachelors</td>\n",
              "      <td>13</td>\n",
              "      <td>Never-married</td>\n",
              "      <td>Adm-clerical</td>\n",
              "      <td>Not-in-family</td>\n",
              "      <td>White</td>\n",
              "      <td>Non-Female</td>\n",
              "      <td>2174</td>\n",
              "      <td>0</td>\n",
              "      <td>40.0</td>\n",
              "      <td>United-States</td>\n",
              "      <td>&lt;=50K</td>\n",
              "      <td>False</td>\n",
              "    </tr>\n",
              "    <tr>\n",
              "      <th>1</th>\n",
              "      <td>50.0</td>\n",
              "      <td>Self-emp-not-inc</td>\n",
              "      <td>Bachelors</td>\n",
              "      <td>13</td>\n",
              "      <td>Married-civ-spouse</td>\n",
              "      <td>Exec-managerial</td>\n",
              "      <td>Husband</td>\n",
              "      <td>White</td>\n",
              "      <td>Non-Female</td>\n",
              "      <td>0</td>\n",
              "      <td>0</td>\n",
              "      <td>13.0</td>\n",
              "      <td>United-States</td>\n",
              "      <td>&lt;=50K</td>\n",
              "      <td>False</td>\n",
              "    </tr>\n",
              "    <tr>\n",
              "      <th>2</th>\n",
              "      <td>38.0</td>\n",
              "      <td>Private</td>\n",
              "      <td>HS-grad</td>\n",
              "      <td>9</td>\n",
              "      <td>Divorced</td>\n",
              "      <td>Handlers-cleaners</td>\n",
              "      <td>Not-in-family</td>\n",
              "      <td>White</td>\n",
              "      <td>Non-Female</td>\n",
              "      <td>0</td>\n",
              "      <td>0</td>\n",
              "      <td>40.0</td>\n",
              "      <td>United-States</td>\n",
              "      <td>&lt;=50K</td>\n",
              "      <td>False</td>\n",
              "    </tr>\n",
              "    <tr>\n",
              "      <th>3</th>\n",
              "      <td>53.0</td>\n",
              "      <td>Private</td>\n",
              "      <td>11th</td>\n",
              "      <td>7</td>\n",
              "      <td>Married-civ-spouse</td>\n",
              "      <td>Handlers-cleaners</td>\n",
              "      <td>Husband</td>\n",
              "      <td>Black</td>\n",
              "      <td>Non-Female</td>\n",
              "      <td>0</td>\n",
              "      <td>0</td>\n",
              "      <td>40.0</td>\n",
              "      <td>United-States</td>\n",
              "      <td>&lt;=50K</td>\n",
              "      <td>False</td>\n",
              "    </tr>\n",
              "    <tr>\n",
              "      <th>4</th>\n",
              "      <td>28.0</td>\n",
              "      <td>Private</td>\n",
              "      <td>Bachelors</td>\n",
              "      <td>13</td>\n",
              "      <td>Married-civ-spouse</td>\n",
              "      <td>Prof-specialty</td>\n",
              "      <td>Wife</td>\n",
              "      <td>Black</td>\n",
              "      <td>Female</td>\n",
              "      <td>0</td>\n",
              "      <td>0</td>\n",
              "      <td>40.0</td>\n",
              "      <td>Cuba</td>\n",
              "      <td>&lt;=50K</td>\n",
              "      <td>False</td>\n",
              "    </tr>\n",
              "  </tbody>\n",
              "</table>\n",
              "</div>"
            ],
            "text/plain": [
              "    age         workclass  education  education-num      marital-status  \\\n",
              "0  39.0         State-gov  Bachelors             13       Never-married   \n",
              "1  50.0  Self-emp-not-inc  Bachelors             13  Married-civ-spouse   \n",
              "2  38.0           Private    HS-grad              9            Divorced   \n",
              "3  53.0           Private       11th              7  Married-civ-spouse   \n",
              "4  28.0           Private  Bachelors             13  Married-civ-spouse   \n",
              "\n",
              "          occupation   relationship   race  sex_selfID  capital-gain  \\\n",
              "0       Adm-clerical  Not-in-family  White  Non-Female          2174   \n",
              "1    Exec-managerial        Husband  White  Non-Female             0   \n",
              "2  Handlers-cleaners  Not-in-family  White  Non-Female             0   \n",
              "3  Handlers-cleaners        Husband  Black  Non-Female             0   \n",
              "4     Prof-specialty           Wife  Black      Female             0   \n",
              "\n",
              "   capital-loss  hours-per-week native-country income_binary  \\\n",
              "0             0            40.0  United-States         <=50K   \n",
              "1             0            13.0  United-States         <=50K   \n",
              "2             0            40.0  United-States         <=50K   \n",
              "3             0            40.0  United-States         <=50K   \n",
              "4             0            40.0           Cuba         <=50K   \n",
              "\n",
              "  label_income_binary  \n",
              "0               False  \n",
              "1               False  \n",
              "2               False  \n",
              "3               False  \n",
              "4               False  "
            ]
          },
          "execution_count": 11,
          "metadata": {},
          "output_type": "execute_result"
        }
      ],
      "source": [
        "df['label_income_binary'] = df['income_binary']\n",
        "\n",
        "condition1 = (df['label_income_binary'] == '>50K')\n",
        "df['label_income_binary'] = np.where(condition1, 'True', df['label_income_binary'])\n",
        "\n",
        "condition2 = (df['label_income_binary'] == '<=50K')\n",
        "df['label_income_binary'] = np.where(condition2, 'False', df['label_income_binary'])\n",
        "\n",
        "df.head() # false means <=50k income, true is >50k income"
      ]
    },
    {
      "cell_type": "code",
      "execution_count": 12,
      "metadata": {
        "colab": {
          "base_uri": "https://localhost:8080/"
        },
        "id": "kdFdREI0v6Nt",
        "outputId": "d44aadcd-781e-4fe3-8f83-0527e8910b48"
      },
      "outputs": [
        {
          "data": {
            "text/plain": [
              "age                     162\n",
              "workclass              1836\n",
              "education                 0\n",
              "education-num             0\n",
              "marital-status            0\n",
              "occupation             1843\n",
              "relationship              0\n",
              "race                      0\n",
              "sex_selfID                0\n",
              "capital-gain              0\n",
              "capital-loss              0\n",
              "hours-per-week          325\n",
              "native-country          583\n",
              "income_binary             0\n",
              "label_income_binary       0\n",
              "dtype: int64"
            ]
          },
          "execution_count": 12,
          "metadata": {},
          "output_type": "execute_result"
        }
      ],
      "source": [
        "nan_count = np.sum(df.isnull(), axis = 0)\n",
        "nan_count"
      ]
    },
    {
      "cell_type": "code",
      "execution_count": null,
      "metadata": {
        "id": "rZ8rVv4Kv6Nu"
      },
      "outputs": [],
      "source": [
        "# df['age'] = df['age'].isnull()\n",
        "mean_ages = df['age'].mean()\n",
        "df['age'].fillna(value=mean_ages, inplace=True)\n",
        "\n",
        "mean_hours = df['hours-per-week'].mean()\n",
        "df['hours-per-week'].fillna(value=mean_hours, inplace=True)"
      ]
    },
    {
      "cell_type": "code",
      "execution_count": 14,
      "metadata": {
        "colab": {
          "base_uri": "https://localhost:8080/",
          "height": 275
        },
        "id": "-qWQklNXv6Nu",
        "outputId": "4efd9f6e-6949-4ae2-fc1c-adbaeb6d06ed"
      },
      "outputs": [
        {
          "data": {
            "text/html": [
              "<div>\n",
              "<style scoped>\n",
              "    .dataframe tbody tr th:only-of-type {\n",
              "        vertical-align: middle;\n",
              "    }\n",
              "\n",
              "    .dataframe tbody tr th {\n",
              "        vertical-align: top;\n",
              "    }\n",
              "\n",
              "    .dataframe thead th {\n",
              "        text-align: right;\n",
              "    }\n",
              "</style>\n",
              "<table border=\"1\" class=\"dataframe\">\n",
              "  <thead>\n",
              "    <tr style=\"text-align: right;\">\n",
              "      <th></th>\n",
              "      <th>age</th>\n",
              "      <th>workclass</th>\n",
              "      <th>education</th>\n",
              "      <th>education-num</th>\n",
              "      <th>marital-status</th>\n",
              "      <th>occupation</th>\n",
              "      <th>relationship</th>\n",
              "      <th>race</th>\n",
              "      <th>sex_selfID</th>\n",
              "      <th>capital-gain</th>\n",
              "      <th>capital-loss</th>\n",
              "      <th>hours-per-week</th>\n",
              "      <th>native-country</th>\n",
              "      <th>income_binary</th>\n",
              "      <th>label_income_binary</th>\n",
              "    </tr>\n",
              "  </thead>\n",
              "  <tbody>\n",
              "    <tr>\n",
              "      <th>0</th>\n",
              "      <td>39.0</td>\n",
              "      <td>State-gov</td>\n",
              "      <td>Bachelors</td>\n",
              "      <td>13</td>\n",
              "      <td>Never-married</td>\n",
              "      <td>Adm-clerical</td>\n",
              "      <td>Not-in-family</td>\n",
              "      <td>White</td>\n",
              "      <td>Non-Female</td>\n",
              "      <td>2174</td>\n",
              "      <td>0</td>\n",
              "      <td>40.0</td>\n",
              "      <td>United-States</td>\n",
              "      <td>&lt;=50K</td>\n",
              "      <td>False</td>\n",
              "    </tr>\n",
              "    <tr>\n",
              "      <th>1</th>\n",
              "      <td>50.0</td>\n",
              "      <td>Self-emp-not-inc</td>\n",
              "      <td>Bachelors</td>\n",
              "      <td>13</td>\n",
              "      <td>Married-civ-spouse</td>\n",
              "      <td>Exec-managerial</td>\n",
              "      <td>Husband</td>\n",
              "      <td>White</td>\n",
              "      <td>Non-Female</td>\n",
              "      <td>0</td>\n",
              "      <td>0</td>\n",
              "      <td>13.0</td>\n",
              "      <td>United-States</td>\n",
              "      <td>&lt;=50K</td>\n",
              "      <td>False</td>\n",
              "    </tr>\n",
              "    <tr>\n",
              "      <th>2</th>\n",
              "      <td>38.0</td>\n",
              "      <td>Private</td>\n",
              "      <td>HS-grad</td>\n",
              "      <td>9</td>\n",
              "      <td>Divorced</td>\n",
              "      <td>Handlers-cleaners</td>\n",
              "      <td>Not-in-family</td>\n",
              "      <td>White</td>\n",
              "      <td>Non-Female</td>\n",
              "      <td>0</td>\n",
              "      <td>0</td>\n",
              "      <td>40.0</td>\n",
              "      <td>United-States</td>\n",
              "      <td>&lt;=50K</td>\n",
              "      <td>False</td>\n",
              "    </tr>\n",
              "    <tr>\n",
              "      <th>3</th>\n",
              "      <td>53.0</td>\n",
              "      <td>Private</td>\n",
              "      <td>11th</td>\n",
              "      <td>7</td>\n",
              "      <td>Married-civ-spouse</td>\n",
              "      <td>Handlers-cleaners</td>\n",
              "      <td>Husband</td>\n",
              "      <td>Black</td>\n",
              "      <td>Non-Female</td>\n",
              "      <td>0</td>\n",
              "      <td>0</td>\n",
              "      <td>40.0</td>\n",
              "      <td>United-States</td>\n",
              "      <td>&lt;=50K</td>\n",
              "      <td>False</td>\n",
              "    </tr>\n",
              "    <tr>\n",
              "      <th>4</th>\n",
              "      <td>28.0</td>\n",
              "      <td>Private</td>\n",
              "      <td>Bachelors</td>\n",
              "      <td>13</td>\n",
              "      <td>Married-civ-spouse</td>\n",
              "      <td>Prof-specialty</td>\n",
              "      <td>Wife</td>\n",
              "      <td>Black</td>\n",
              "      <td>Female</td>\n",
              "      <td>0</td>\n",
              "      <td>0</td>\n",
              "      <td>40.0</td>\n",
              "      <td>Cuba</td>\n",
              "      <td>&lt;=50K</td>\n",
              "      <td>False</td>\n",
              "    </tr>\n",
              "  </tbody>\n",
              "</table>\n",
              "</div>"
            ],
            "text/plain": [
              "    age         workclass  education  education-num      marital-status  \\\n",
              "0  39.0         State-gov  Bachelors             13       Never-married   \n",
              "1  50.0  Self-emp-not-inc  Bachelors             13  Married-civ-spouse   \n",
              "2  38.0           Private    HS-grad              9            Divorced   \n",
              "3  53.0           Private       11th              7  Married-civ-spouse   \n",
              "4  28.0           Private  Bachelors             13  Married-civ-spouse   \n",
              "\n",
              "          occupation   relationship   race  sex_selfID  capital-gain  \\\n",
              "0       Adm-clerical  Not-in-family  White  Non-Female          2174   \n",
              "1    Exec-managerial        Husband  White  Non-Female             0   \n",
              "2  Handlers-cleaners  Not-in-family  White  Non-Female             0   \n",
              "3  Handlers-cleaners        Husband  Black  Non-Female             0   \n",
              "4     Prof-specialty           Wife  Black      Female             0   \n",
              "\n",
              "   capital-loss  hours-per-week native-country income_binary  \\\n",
              "0             0            40.0  United-States         <=50K   \n",
              "1             0            13.0  United-States         <=50K   \n",
              "2             0            40.0  United-States         <=50K   \n",
              "3             0            40.0  United-States         <=50K   \n",
              "4             0            40.0           Cuba         <=50K   \n",
              "\n",
              "  label_income_binary  \n",
              "0               False  \n",
              "1               False  \n",
              "2               False  \n",
              "3               False  \n",
              "4               False  "
            ]
          },
          "execution_count": 14,
          "metadata": {},
          "output_type": "execute_result"
        }
      ],
      "source": [
        "df.dropna(inplace = True)\n",
        "df.head()"
      ]
    },
    {
      "cell_type": "code",
      "execution_count": 15,
      "metadata": {
        "colab": {
          "base_uri": "https://localhost:8080/"
        },
        "id": "ibmy3_F4v6Nu",
        "outputId": "d92d71e9-4785-478f-ec8c-66836a8506b8"
      },
      "outputs": [
        {
          "data": {
            "text/plain": [
              "age                    0\n",
              "workclass              0\n",
              "education              0\n",
              "education-num          0\n",
              "marital-status         0\n",
              "occupation             0\n",
              "relationship           0\n",
              "race                   0\n",
              "sex_selfID             0\n",
              "capital-gain           0\n",
              "capital-loss           0\n",
              "hours-per-week         0\n",
              "native-country         0\n",
              "income_binary          0\n",
              "label_income_binary    0\n",
              "dtype: int64"
            ]
          },
          "execution_count": 15,
          "metadata": {},
          "output_type": "execute_result"
        }
      ],
      "source": [
        "nan_count = np.sum(df.isnull(), axis = 0)\n",
        "nan_count"
      ]
    },
    {
      "cell_type": "markdown",
      "metadata": {},
      "source": [
        "### Class imbalances"
      ]
    },
    {
      "cell_type": "code",
      "execution_count": 16,
      "metadata": {
        "colab": {
          "base_uri": "https://localhost:8080/"
        },
        "id": "Fqr3bxQpv6Nu",
        "outputId": "e2f7e9a6-27c2-4b53-9c50-2dde4a86605e"
      },
      "outputs": [
        {
          "name": "stdout",
          "output_type": "stream",
          "text": [
            "df shape:  (30162, 15)\n",
            "df subset shape:  (9048, 15)\n",
            "['Non-Female' 'Female']\n"
          ]
        }
      ],
      "source": [
        "num_rows = df.shape[0]\n",
        "indices = np.random.choice(df.index, size=int(num_rows * 0.3), replace=False)\n",
        "df_subset = df.loc[indices]\n",
        "\n",
        "print(\"df shape: \", df.shape)\n",
        "print(\"df subset shape: \", df_subset.shape)\n",
        "print(df['sex_selfID'].unique())"
      ]
    },
    {
      "cell_type": "code",
      "execution_count": 17,
      "metadata": {
        "colab": {
          "base_uri": "https://localhost:8080/"
        },
        "id": "mhMnNH23v6Nu",
        "outputId": "1a293851-57c1-45d1-e0f0-a0efa6908be6"
      },
      "outputs": [
        {
          "name": "stdout",
          "output_type": "stream",
          "text": [
            "sex_selfID\n",
            "Non-Female    6172\n",
            "Female        2876\n",
            "Name: count, dtype: int64\n"
          ]
        },
        {
          "data": {
            "text/plain": [
              "0.3178603006189213"
            ]
          },
          "execution_count": 17,
          "metadata": {},
          "output_type": "execute_result"
        }
      ],
      "source": [
        "ssID_counts = df_subset['sex_selfID'].value_counts()\n",
        "print(ssID_counts)\n",
        "\n",
        "ssID_counts['Female'] / sum(ssID_counts.values)"
      ]
    },
    {
      "cell_type": "code",
      "execution_count": 18,
      "metadata": {
        "colab": {
          "base_uri": "https://localhost:8080/"
        },
        "id": "OtLi_1EQv6Nu",
        "outputId": "2a05b6f7-3265-4639-affa-19457027c849"
      },
      "outputs": [
        {
          "name": "stdout",
          "output_type": "stream",
          "text": [
            "race\n",
            "White                 7794\n",
            "Black                  837\n",
            "Asian-Pac-Islander     263\n",
            "Amer-Indian-Inuit       82\n",
            "Other                   72\n",
            "Name: count, dtype: int64\n"
          ]
        }
      ],
      "source": [
        "race_counts = df_subset['race'].value_counts()\n",
        "print(race_counts)"
      ]
    },
    {
      "cell_type": "code",
      "execution_count": 19,
      "metadata": {
        "colab": {
          "base_uri": "https://localhost:8080/"
        },
        "id": "HzaqTQCrv6Nv",
        "outputId": "267e4663-25ff-47fd-f1cb-d05e71ed49b5"
      },
      "outputs": [
        {
          "name": "stdout",
          "output_type": "stream",
          "text": [
            "sex_selfID  income_binary\n",
            "Female      <=50K            2560\n",
            "            >50K              316\n",
            "Non-Female  <=50K            4287\n",
            "            >50K             1885\n",
            "dtype: int64\n"
          ]
        },
        {
          "data": {
            "text/plain": [
              "809"
            ]
          },
          "execution_count": 19,
          "metadata": {},
          "output_type": "execute_result"
        }
      ],
      "source": [
        "print(df_subset.groupby(['sex_selfID', 'income_binary']).size())\n",
        "\n",
        "low_nf, high_nf = df_subset.groupby(['sex_selfID', 'income_binary']).size()['Non-Female']\n",
        "class_balance_nf = high_nf / low_nf\n",
        "\n",
        "low_f, high_f = df_subset.groupby(['sex_selfID', 'income_binary']).size()['Female']\n",
        "\n",
        "add_ss = int(class_balance_nf * low_f - high_f)\n",
        "add_ss"
      ]
    },
    {
      "cell_type": "code",
      "execution_count": 21,
      "metadata": {
        "colab": {
          "base_uri": "https://localhost:8080/",
          "height": 345
        },
        "id": "f0C9gFb5v6Nv",
        "outputId": "d288796f-3979-4d05-8ce0-8437e3e4f693"
      },
      "outputs": [
        {
          "data": {
            "text/html": [
              "<div>\n",
              "<style scoped>\n",
              "    .dataframe tbody tr th:only-of-type {\n",
              "        vertical-align: middle;\n",
              "    }\n",
              "\n",
              "    .dataframe tbody tr th {\n",
              "        vertical-align: top;\n",
              "    }\n",
              "\n",
              "    .dataframe thead th {\n",
              "        text-align: right;\n",
              "    }\n",
              "</style>\n",
              "<table border=\"1\" class=\"dataframe\">\n",
              "  <thead>\n",
              "    <tr style=\"text-align: right;\">\n",
              "      <th></th>\n",
              "      <th>age</th>\n",
              "      <th>workclass</th>\n",
              "      <th>education</th>\n",
              "      <th>education-num</th>\n",
              "      <th>marital-status</th>\n",
              "      <th>occupation</th>\n",
              "      <th>relationship</th>\n",
              "      <th>race</th>\n",
              "      <th>sex_selfID</th>\n",
              "      <th>capital-gain</th>\n",
              "      <th>capital-loss</th>\n",
              "      <th>hours-per-week</th>\n",
              "      <th>native-country</th>\n",
              "      <th>income_binary</th>\n",
              "      <th>label_income_binary</th>\n",
              "    </tr>\n",
              "  </thead>\n",
              "  <tbody>\n",
              "    <tr>\n",
              "      <th>14722</th>\n",
              "      <td>31.0</td>\n",
              "      <td>Private</td>\n",
              "      <td>12th</td>\n",
              "      <td>8</td>\n",
              "      <td>Divorced</td>\n",
              "      <td>Transport-moving</td>\n",
              "      <td>Own-child</td>\n",
              "      <td>White</td>\n",
              "      <td>Non-Female</td>\n",
              "      <td>0</td>\n",
              "      <td>0</td>\n",
              "      <td>40.0</td>\n",
              "      <td>United-States</td>\n",
              "      <td>&lt;=50K</td>\n",
              "      <td>False</td>\n",
              "    </tr>\n",
              "    <tr>\n",
              "      <th>17208</th>\n",
              "      <td>44.0</td>\n",
              "      <td>Private</td>\n",
              "      <td>HS-grad</td>\n",
              "      <td>9</td>\n",
              "      <td>Married-civ-spouse</td>\n",
              "      <td>Transport-moving</td>\n",
              "      <td>Husband</td>\n",
              "      <td>White</td>\n",
              "      <td>Non-Female</td>\n",
              "      <td>0</td>\n",
              "      <td>0</td>\n",
              "      <td>45.0</td>\n",
              "      <td>United-States</td>\n",
              "      <td>&lt;=50K</td>\n",
              "      <td>False</td>\n",
              "    </tr>\n",
              "    <tr>\n",
              "      <th>5390</th>\n",
              "      <td>31.0</td>\n",
              "      <td>Private</td>\n",
              "      <td>12th</td>\n",
              "      <td>8</td>\n",
              "      <td>Divorced</td>\n",
              "      <td>Other-service</td>\n",
              "      <td>Unmarried</td>\n",
              "      <td>White</td>\n",
              "      <td>Female</td>\n",
              "      <td>0</td>\n",
              "      <td>0</td>\n",
              "      <td>21.0</td>\n",
              "      <td>United-States</td>\n",
              "      <td>&lt;=50K</td>\n",
              "      <td>False</td>\n",
              "    </tr>\n",
              "    <tr>\n",
              "      <th>29123</th>\n",
              "      <td>29.0</td>\n",
              "      <td>Private</td>\n",
              "      <td>Some-college</td>\n",
              "      <td>10</td>\n",
              "      <td>Married-civ-spouse</td>\n",
              "      <td>Protective-serv</td>\n",
              "      <td>Husband</td>\n",
              "      <td>White</td>\n",
              "      <td>Non-Female</td>\n",
              "      <td>7688</td>\n",
              "      <td>0</td>\n",
              "      <td>54.0</td>\n",
              "      <td>United-States</td>\n",
              "      <td>&gt;50K</td>\n",
              "      <td>True</td>\n",
              "    </tr>\n",
              "    <tr>\n",
              "      <th>12277</th>\n",
              "      <td>24.0</td>\n",
              "      <td>Private</td>\n",
              "      <td>Bachelors</td>\n",
              "      <td>13</td>\n",
              "      <td>Never-married</td>\n",
              "      <td>Tech-support</td>\n",
              "      <td>Own-child</td>\n",
              "      <td>White</td>\n",
              "      <td>Non-Female</td>\n",
              "      <td>0</td>\n",
              "      <td>0</td>\n",
              "      <td>40.0</td>\n",
              "      <td>United-States</td>\n",
              "      <td>&lt;=50K</td>\n",
              "      <td>False</td>\n",
              "    </tr>\n",
              "  </tbody>\n",
              "</table>\n",
              "</div>"
            ],
            "text/plain": [
              "        age workclass     education  education-num      marital-status  \\\n",
              "14722  31.0   Private          12th              8            Divorced   \n",
              "17208  44.0   Private       HS-grad              9  Married-civ-spouse   \n",
              "5390   31.0   Private          12th              8            Divorced   \n",
              "29123  29.0   Private  Some-college             10  Married-civ-spouse   \n",
              "12277  24.0   Private     Bachelors             13       Never-married   \n",
              "\n",
              "             occupation relationship   race  sex_selfID  capital-gain  \\\n",
              "14722  Transport-moving    Own-child  White  Non-Female             0   \n",
              "17208  Transport-moving      Husband  White  Non-Female             0   \n",
              "5390      Other-service    Unmarried  White      Female             0   \n",
              "29123   Protective-serv      Husband  White  Non-Female          7688   \n",
              "12277      Tech-support    Own-child  White  Non-Female             0   \n",
              "\n",
              "       capital-loss  hours-per-week native-country income_binary  \\\n",
              "14722             0            40.0  United-States         <=50K   \n",
              "17208             0            45.0  United-States         <=50K   \n",
              "5390              0            21.0  United-States         <=50K   \n",
              "29123             0            54.0  United-States          >50K   \n",
              "12277             0            40.0  United-States         <=50K   \n",
              "\n",
              "      label_income_binary  \n",
              "14722               False  \n",
              "17208               False  \n",
              "5390                False  \n",
              "29123                True  \n",
              "12277               False  "
            ]
          },
          "execution_count": 21,
          "metadata": {},
          "output_type": "execute_result"
        }
      ],
      "source": [
        "df_never_sampled = df.drop(labels=df_subset.index, axis=0, inplace=False)\n",
        "\n",
        "upsample = (df_never_sampled['income_binary'] == '>50K') & (df_never_sampled['sex_selfID'] == 'Female')\n",
        "df_ns_target = df_never_sampled[upsample]\n",
        "\n",
        "size = min(add_ss, df_ns_target.shape[0])\n",
        "indices = np.random.choice(df_ns_target.index, size=size, replace=False)\n",
        "\n",
        "df_balanced_subset = pd.concat([df_subset, df.loc[indices]])\n",
        "\n",
        "df_balanced_subset.head()"
      ]
    },
    {
      "cell_type": "code",
      "execution_count": 22,
      "metadata": {
        "id": "Cw1G73Vhv6Nv"
      },
      "outputs": [],
      "source": [
        "df = df_balanced_subset.drop('income_binary', axis=1)"
      ]
    },
    {
      "cell_type": "code",
      "execution_count": 23,
      "metadata": {
        "colab": {
          "base_uri": "https://localhost:8080/"
        },
        "id": "wyI2C1Uxv6Nv",
        "outputId": "85f9e66f-430f-4fc4-9342-3c0271362930"
      },
      "outputs": [
        {
          "data": {
            "text/plain": [
              "sex_selfID  label_income_binary\n",
              "Female      False                  2560\n",
              "            True                   1112\n",
              "Non-Female  False                  4287\n",
              "            True                   1885\n",
              "dtype: int64"
            ]
          },
          "execution_count": 23,
          "metadata": {},
          "output_type": "execute_result"
        }
      ],
      "source": [
        "df.groupby(['sex_selfID', 'label_income_binary']).size()"
      ]
    },
    {
      "cell_type": "markdown",
      "metadata": {},
      "source": [
        "### One-hot encoding"
      ]
    },
    {
      "cell_type": "code",
      "execution_count": 24,
      "metadata": {
        "colab": {
          "base_uri": "https://localhost:8080/"
        },
        "id": "1po4Wiwnv6Nv",
        "outputId": "182e34b7-adc8-4987-dbed-f0be19d19d84"
      },
      "outputs": [
        {
          "data": {
            "text/plain": [
              "['workclass',\n",
              " 'education',\n",
              " 'marital-status',\n",
              " 'occupation',\n",
              " 'relationship',\n",
              " 'race',\n",
              " 'sex_selfID',\n",
              " 'native-country']"
            ]
          },
          "execution_count": 24,
          "metadata": {},
          "output_type": "execute_result"
        }
      ],
      "source": [
        "# one-hot encoding\n",
        "to_encode = list(df.select_dtypes(include=['object']).columns)\n",
        "to_encode.remove('label_income_binary')\n",
        "to_encode"
      ]
    },
    {
      "cell_type": "code",
      "execution_count": 25,
      "metadata": {
        "id": "CJwiVBbB3JjW"
      },
      "outputs": [],
      "source": [
        "encoder = OneHotEncoder()\n",
        "encoded_array = encoder.fit_transform(df[to_encode]).toarray()\n",
        "df_encoded = pd.DataFrame(encoded_array, columns=encoder.get_feature_names_out(to_encode))"
      ]
    },
    {
      "cell_type": "code",
      "execution_count": 26,
      "metadata": {
        "id": "6akY7Rzz310g"
      },
      "outputs": [],
      "source": [
        "non_enc = list(df.select_dtypes(include=['float64', 'int64']).columns)\n",
        "non_enc.append('label_income_binary')\n",
        "df_non_enc = df[non_enc]"
      ]
    },
    {
      "cell_type": "code",
      "execution_count": 27,
      "metadata": {
        "colab": {
          "base_uri": "https://localhost:8080/",
          "height": 290
        },
        "id": "EY5x9sYJ5CqV",
        "outputId": "f28f466e-a4c4-4a79-df2a-5f68c6c415c2"
      },
      "outputs": [
        {
          "data": {
            "text/html": [
              "<div>\n",
              "<style scoped>\n",
              "    .dataframe tbody tr th:only-of-type {\n",
              "        vertical-align: middle;\n",
              "    }\n",
              "\n",
              "    .dataframe tbody tr th {\n",
              "        vertical-align: top;\n",
              "    }\n",
              "\n",
              "    .dataframe thead th {\n",
              "        text-align: right;\n",
              "    }\n",
              "</style>\n",
              "<table border=\"1\" class=\"dataframe\">\n",
              "  <thead>\n",
              "    <tr style=\"text-align: right;\">\n",
              "      <th></th>\n",
              "      <th>age</th>\n",
              "      <th>education-num</th>\n",
              "      <th>capital-gain</th>\n",
              "      <th>capital-loss</th>\n",
              "      <th>hours-per-week</th>\n",
              "      <th>label_income_binary</th>\n",
              "      <th>workclass_Federal-gov</th>\n",
              "      <th>workclass_Local-gov</th>\n",
              "      <th>workclass_Private</th>\n",
              "      <th>workclass_Self-emp-inc</th>\n",
              "      <th>...</th>\n",
              "      <th>native-country_Portugal</th>\n",
              "      <th>native-country_Puerto-Rico</th>\n",
              "      <th>native-country_Scotland</th>\n",
              "      <th>native-country_South</th>\n",
              "      <th>native-country_Taiwan</th>\n",
              "      <th>native-country_Thailand</th>\n",
              "      <th>native-country_Trinadad&amp;Tobago</th>\n",
              "      <th>native-country_United-States</th>\n",
              "      <th>native-country_Vietnam</th>\n",
              "      <th>native-country_Yugoslavia</th>\n",
              "    </tr>\n",
              "  </thead>\n",
              "  <tbody>\n",
              "    <tr>\n",
              "      <th>0</th>\n",
              "      <td>31.0</td>\n",
              "      <td>8</td>\n",
              "      <td>0</td>\n",
              "      <td>0</td>\n",
              "      <td>40.0</td>\n",
              "      <td>False</td>\n",
              "      <td>0.0</td>\n",
              "      <td>0.0</td>\n",
              "      <td>1.0</td>\n",
              "      <td>0.0</td>\n",
              "      <td>...</td>\n",
              "      <td>0.0</td>\n",
              "      <td>0.0</td>\n",
              "      <td>0.0</td>\n",
              "      <td>0.0</td>\n",
              "      <td>0.0</td>\n",
              "      <td>0.0</td>\n",
              "      <td>0.0</td>\n",
              "      <td>1.0</td>\n",
              "      <td>0.0</td>\n",
              "      <td>0.0</td>\n",
              "    </tr>\n",
              "    <tr>\n",
              "      <th>1</th>\n",
              "      <td>44.0</td>\n",
              "      <td>9</td>\n",
              "      <td>0</td>\n",
              "      <td>0</td>\n",
              "      <td>45.0</td>\n",
              "      <td>False</td>\n",
              "      <td>0.0</td>\n",
              "      <td>0.0</td>\n",
              "      <td>1.0</td>\n",
              "      <td>0.0</td>\n",
              "      <td>...</td>\n",
              "      <td>0.0</td>\n",
              "      <td>0.0</td>\n",
              "      <td>0.0</td>\n",
              "      <td>0.0</td>\n",
              "      <td>0.0</td>\n",
              "      <td>0.0</td>\n",
              "      <td>0.0</td>\n",
              "      <td>1.0</td>\n",
              "      <td>0.0</td>\n",
              "      <td>0.0</td>\n",
              "    </tr>\n",
              "    <tr>\n",
              "      <th>2</th>\n",
              "      <td>31.0</td>\n",
              "      <td>8</td>\n",
              "      <td>0</td>\n",
              "      <td>0</td>\n",
              "      <td>21.0</td>\n",
              "      <td>False</td>\n",
              "      <td>0.0</td>\n",
              "      <td>0.0</td>\n",
              "      <td>1.0</td>\n",
              "      <td>0.0</td>\n",
              "      <td>...</td>\n",
              "      <td>0.0</td>\n",
              "      <td>0.0</td>\n",
              "      <td>0.0</td>\n",
              "      <td>0.0</td>\n",
              "      <td>0.0</td>\n",
              "      <td>0.0</td>\n",
              "      <td>0.0</td>\n",
              "      <td>1.0</td>\n",
              "      <td>0.0</td>\n",
              "      <td>0.0</td>\n",
              "    </tr>\n",
              "    <tr>\n",
              "      <th>3</th>\n",
              "      <td>29.0</td>\n",
              "      <td>10</td>\n",
              "      <td>7688</td>\n",
              "      <td>0</td>\n",
              "      <td>54.0</td>\n",
              "      <td>True</td>\n",
              "      <td>0.0</td>\n",
              "      <td>0.0</td>\n",
              "      <td>1.0</td>\n",
              "      <td>0.0</td>\n",
              "      <td>...</td>\n",
              "      <td>0.0</td>\n",
              "      <td>0.0</td>\n",
              "      <td>0.0</td>\n",
              "      <td>0.0</td>\n",
              "      <td>0.0</td>\n",
              "      <td>0.0</td>\n",
              "      <td>0.0</td>\n",
              "      <td>1.0</td>\n",
              "      <td>0.0</td>\n",
              "      <td>0.0</td>\n",
              "    </tr>\n",
              "    <tr>\n",
              "      <th>4</th>\n",
              "      <td>24.0</td>\n",
              "      <td>13</td>\n",
              "      <td>0</td>\n",
              "      <td>0</td>\n",
              "      <td>40.0</td>\n",
              "      <td>False</td>\n",
              "      <td>0.0</td>\n",
              "      <td>0.0</td>\n",
              "      <td>1.0</td>\n",
              "      <td>0.0</td>\n",
              "      <td>...</td>\n",
              "      <td>0.0</td>\n",
              "      <td>0.0</td>\n",
              "      <td>0.0</td>\n",
              "      <td>0.0</td>\n",
              "      <td>0.0</td>\n",
              "      <td>0.0</td>\n",
              "      <td>0.0</td>\n",
              "      <td>1.0</td>\n",
              "      <td>0.0</td>\n",
              "      <td>0.0</td>\n",
              "    </tr>\n",
              "  </tbody>\n",
              "</table>\n",
              "<p>5 rows × 103 columns</p>\n",
              "</div>"
            ],
            "text/plain": [
              "    age  education-num  capital-gain  capital-loss  hours-per-week  \\\n",
              "0  31.0              8             0             0            40.0   \n",
              "1  44.0              9             0             0            45.0   \n",
              "2  31.0              8             0             0            21.0   \n",
              "3  29.0             10          7688             0            54.0   \n",
              "4  24.0             13             0             0            40.0   \n",
              "\n",
              "  label_income_binary  workclass_Federal-gov  workclass_Local-gov  \\\n",
              "0               False                    0.0                  0.0   \n",
              "1               False                    0.0                  0.0   \n",
              "2               False                    0.0                  0.0   \n",
              "3                True                    0.0                  0.0   \n",
              "4               False                    0.0                  0.0   \n",
              "\n",
              "   workclass_Private  workclass_Self-emp-inc  ...  native-country_Portugal  \\\n",
              "0                1.0                     0.0  ...                      0.0   \n",
              "1                1.0                     0.0  ...                      0.0   \n",
              "2                1.0                     0.0  ...                      0.0   \n",
              "3                1.0                     0.0  ...                      0.0   \n",
              "4                1.0                     0.0  ...                      0.0   \n",
              "\n",
              "   native-country_Puerto-Rico  native-country_Scotland  native-country_South  \\\n",
              "0                         0.0                      0.0                   0.0   \n",
              "1                         0.0                      0.0                   0.0   \n",
              "2                         0.0                      0.0                   0.0   \n",
              "3                         0.0                      0.0                   0.0   \n",
              "4                         0.0                      0.0                   0.0   \n",
              "\n",
              "   native-country_Taiwan  native-country_Thailand  \\\n",
              "0                    0.0                      0.0   \n",
              "1                    0.0                      0.0   \n",
              "2                    0.0                      0.0   \n",
              "3                    0.0                      0.0   \n",
              "4                    0.0                      0.0   \n",
              "\n",
              "   native-country_Trinadad&Tobago  native-country_United-States  \\\n",
              "0                             0.0                           1.0   \n",
              "1                             0.0                           1.0   \n",
              "2                             0.0                           1.0   \n",
              "3                             0.0                           1.0   \n",
              "4                             0.0                           1.0   \n",
              "\n",
              "   native-country_Vietnam  native-country_Yugoslavia  \n",
              "0                     0.0                        0.0  \n",
              "1                     0.0                        0.0  \n",
              "2                     0.0                        0.0  \n",
              "3                     0.0                        0.0  \n",
              "4                     0.0                        0.0  \n",
              "\n",
              "[5 rows x 103 columns]"
            ]
          },
          "execution_count": 27,
          "metadata": {},
          "output_type": "execute_result"
        }
      ],
      "source": [
        "df_non_enc.reset_index(drop=True, inplace=True)\n",
        "df_encoded.reset_index(drop=True, inplace=True)\n",
        "\n",
        "df = pd.concat([df_non_enc, df_encoded], axis=1)\n",
        "df.head()"
      ]
    },
    {
      "cell_type": "code",
      "execution_count": 28,
      "metadata": {
        "colab": {
          "base_uri": "https://localhost:8080/"
        },
        "id": "EVxvLOV2v6Nw",
        "outputId": "a86347d4-8006-41af-fd07-68720f8ff400"
      },
      "outputs": [
        {
          "data": {
            "text/plain": [
              "age                               float64\n",
              "education-num                       int64\n",
              "capital-gain                        int64\n",
              "capital-loss                        int64\n",
              "hours-per-week                    float64\n",
              "                                   ...   \n",
              "native-country_Thailand           float64\n",
              "native-country_Trinadad&Tobago    float64\n",
              "native-country_United-States      float64\n",
              "native-country_Vietnam            float64\n",
              "native-country_Yugoslavia         float64\n",
              "Length: 103, dtype: object"
            ]
          },
          "execution_count": 28,
          "metadata": {},
          "output_type": "execute_result"
        }
      ],
      "source": [
        "df.dtypes"
      ]
    },
    {
      "cell_type": "markdown",
      "metadata": {
        "id": "spVuDOZMv6Nw"
      },
      "source": [
        "## Part 3: Implement Your Project Plan\n",
        "\n",
        "<b>Task:</b> Use the rest of this notebook to carry out your project plan. You will:\n",
        "\n",
        "1. Prepare your data for your model and create features and a label.\n",
        "2. Fit your model to the training data and evaluate your model.\n",
        "3. Improve your model by performing model selection and/or feature selection techniques to find best model for your problem.\n",
        "\n",
        "\n",
        "Add code cells below and populate the notebook with commentary, code, analyses, results, and figures as you see fit."
      ]
    },
    {
      "cell_type": "code",
      "execution_count": 29,
      "metadata": {
        "id": "xirBeBZRv6Nw"
      },
      "outputs": [],
      "source": [
        "feature_list = list(df.select_dtypes(\"float64\", \"int64\"))\n",
        "# feature_list"
      ]
    },
    {
      "cell_type": "code",
      "execution_count": 30,
      "metadata": {
        "id": "xCElaOlCv6Nw"
      },
      "outputs": [],
      "source": [
        "X = df[feature_list]\n",
        "y = df['label_income_binary']"
      ]
    },
    {
      "cell_type": "code",
      "execution_count": 31,
      "metadata": {
        "id": "xDx3w-2bv6Nw"
      },
      "outputs": [],
      "source": [
        "X_train, X_test, y_train, y_test = train_test_split(X, y, test_size=.2, random_state=1234)"
      ]
    },
    {
      "cell_type": "code",
      "execution_count": 32,
      "metadata": {
        "colab": {
          "base_uri": "https://localhost:8080/"
        },
        "id": "9m-h_1oOv6Nx",
        "outputId": "24cc22ce-6c8b-4970-f1fc-6a8db3747f0f"
      },
      "outputs": [
        {
          "name": "stdout",
          "output_type": "stream",
          "text": [
            "Log loss: 0.39891261514276555\n",
            "Accuracy: 0.8197054342305738\n"
          ]
        }
      ],
      "source": [
        "def train_test_LR(X_train, y_train, X_test, y_test, c=1):\n",
        "    model = LogisticRegression(C=c, max_iter=10000)\n",
        "\n",
        "    model.fit(X_train, y_train)\n",
        "\n",
        "    probability_predictions = model.predict_proba(X_test)\n",
        "    l_loss = log_loss(y_test, probability_predictions)\n",
        "\n",
        "    class_label_predictions = model.predict(X_test)\n",
        "    acc_score = accuracy_score(y_test, class_label_predictions)\n",
        "\n",
        "    return l_loss, acc_score\n",
        "\n",
        "loss, acc = train_test_LR(X_train, y_train, X_test, y_test)\n",
        "print('Log loss: ' + str(loss))\n",
        "print('Accuracy: ' + str(acc))"
      ]
    },
    {
      "cell_type": "markdown",
      "metadata": {},
      "source": [
        "### Hyperparameter tuning"
      ]
    },
    {
      "cell_type": "code",
      "execution_count": 33,
      "metadata": {
        "id": "IUAlpMPiv6Nx"
      },
      "outputs": [],
      "source": [
        "cs = [10**i for i in range(-10,10)]\n",
        "ll_cs = list()\n",
        "acc_cs = list()\n",
        "\n",
        "for i in cs:\n",
        "    loss, acc = train_test_LR(X_train, y_train, X_test, y_test, i)\n",
        "    ll_cs.append(loss)\n",
        "    acc_cs.append(acc)"
      ]
    },
    {
      "cell_type": "code",
      "execution_count": 34,
      "metadata": {
        "colab": {
          "base_uri": "https://localhost:8080/",
          "height": 472
        },
        "id": "yOcMlysHv6Nx",
        "outputId": "7d886b2d-27ae-41c9-9989-271e40186589"
      },
      "outputs": [
        {
          "data": {
            "image/png": "[encoded data removed]",
            "text/plain": [
              "<Figure size 640x480 with 1 Axes>"
            ]
          },
          "metadata": {},
          "output_type": "display_data"
        }
      ],
      "source": [
        "fig = plt.figure()\n",
        "ax = fig.add_subplot(111)\n",
        "x = np.log10(cs)\n",
        "\n",
        "sns.lineplot(x=x, y=acc_cs, marker='o')\n",
        "\n",
        "plt.title(\"Accuracy Test Performance by Regularization Weight C'\")\n",
        "plt.xlabel(\"Regularization HyperParameter: C\")\n",
        "plt.ylabel(\"Accuracy\")\n",
        "plt.show()"
      ]
    },
    {
      "cell_type": "code",
      "execution_count": null,
      "metadata": {
        "colab": {
          "base_uri": "https://localhost:8080/",
          "height": 74
        },
        "id": "74zoiTz4v6Nx",
        "outputId": "13dc2e21-f196-46f6-c81b-84fab5832d8e"
      },
      "outputs": [],
      "source": [
        "model = LogisticRegression(max_iter=10000, C=0.01) # 0.1-1 for optimal C\n",
        "model.fit(X_train, y_train)"
      ]
    },
    {
      "cell_type": "code",
      "execution_count": 52,
      "metadata": {
        "id": "TCccb4Qhv6N7"
      },
      "outputs": [
        {
          "data": {
            "text/plain": [
              "0.8014220416455053"
            ]
          },
          "execution_count": 52,
          "metadata": {},
          "output_type": "execute_result"
        }
      ],
      "source": [
        "proba_predictions = model.predict_proba(X_test)[:, 1]\n",
        "class_label_predictions = model.predict(X_test)\n",
        "\n",
        "acc_score = accuracy_score(y_test, class_label_predictions)\n",
        "acc_score"
      ]
    },
    {
      "cell_type": "code",
      "execution_count": 53,
      "metadata": {
        "colab": {
          "base_uri": "https://localhost:8080/",
          "height": 125
        },
        "id": "TWytwhRKv6N7",
        "outputId": "b27898ed-6a9a-4457-eedd-efd42db78b55"
      },
      "outputs": [
        {
          "data": {
            "text/html": [
              "<div>\n",
              "<style scoped>\n",
              "    .dataframe tbody tr th:only-of-type {\n",
              "        vertical-align: middle;\n",
              "    }\n",
              "\n",
              "    .dataframe tbody tr th {\n",
              "        vertical-align: top;\n",
              "    }\n",
              "\n",
              "    .dataframe thead th {\n",
              "        text-align: right;\n",
              "    }\n",
              "</style>\n",
              "<table border=\"1\" class=\"dataframe\">\n",
              "  <thead>\n",
              "    <tr style=\"text-align: right;\">\n",
              "      <th></th>\n",
              "      <th>Predicted: Income is &gt;$50K</th>\n",
              "      <th>Predicted: Income is &lt;=$50K</th>\n",
              "    </tr>\n",
              "  </thead>\n",
              "  <tbody>\n",
              "    <tr>\n",
              "      <th>Actual: Income is &gt;$50K</th>\n",
              "      <td>322</td>\n",
              "      <td>266</td>\n",
              "    </tr>\n",
              "    <tr>\n",
              "      <th>Actual: Income is &lt;=$50K</th>\n",
              "      <td>125</td>\n",
              "      <td>1256</td>\n",
              "    </tr>\n",
              "  </tbody>\n",
              "</table>\n",
              "</div>"
            ],
            "text/plain": [
              "                          Predicted: Income is >$50K  \\\n",
              "Actual: Income is >$50K                          322   \n",
              "Actual: Income is <=$50K                         125   \n",
              "\n",
              "                          Predicted: Income is <=$50K  \n",
              "Actual: Income is >$50K                           266  \n",
              "Actual: Income is <=$50K                         1256  "
            ]
          },
          "execution_count": 53,
          "metadata": {},
          "output_type": "execute_result"
        }
      ],
      "source": [
        "cm = confusion_matrix(y_test, class_label_predictions, labels=['True','False'])\n",
        "df_cm = pd.DataFrame(cm, columns=['Predicted: Income is >$50K', 'Predicted: Income is <=$50K'],\n",
        "                                 index=['Actual: Income is >$50K', 'Actual: Income is <=$50K'])\n",
        "df_cm"
      ]
    },
    {
      "cell_type": "code",
      "execution_count": 54,
      "metadata": {
        "colab": {
          "base_uri": "https://localhost:8080/"
        },
        "id": "LT0HLyqdv6N7",
        "outputId": "0ec0d1f2-59d2-43f1-87a1-655ba9c8bdd7"
      },
      "outputs": [
        {
          "name": "stdout",
          "output_type": "stream",
          "text": [
            "Running Grid Search...\n",
            "Done\n"
          ]
        }
      ],
      "source": [
        "param_grid = {\n",
        "    \"C\": [0.001, 0.01, 1, 2, 3, 5, 7, 9, 10]\n",
        "    }\n",
        "\n",
        "print('Running Grid Search...')\n",
        "\n",
        "model = LogisticRegression(max_iter=10000)\n",
        "grid = GridSearchCV(model, param_grid=param_grid, cv=5)\n",
        "grid_search = grid.fit(X_train, y_train)\n",
        "\n",
        "print('Done')"
      ]
    },
    {
      "cell_type": "code",
      "execution_count": 55,
      "metadata": {
        "id": "om0g9cEyv6N7"
      },
      "outputs": [
        {
          "name": "stdout",
          "output_type": "stream",
          "text": [
            "Best C: 1\n",
            "Accuracy: 0.8014220416455053\n"
          ]
        }
      ],
      "source": [
        "best_c = grid_search.best_params_['C']\n",
        "print(f'Best C: {best_c}')\n",
        "\n",
        "model_best = LogisticRegression(C=best_c, max_iter=10000)\n",
        "model_best.fit(X_train, y_train)\n",
        "\n",
        "proba_predictions_best = model_best.predict_proba(X_test)[:, 1]\n",
        "class_label_predictions_best = model_best.predict(X_test)\n",
        "\n",
        "acc_score = accuracy_score(y_test, class_label_predictions)\n",
        "print(f'Accuracy: {acc_score}')"
      ]
    },
    {
      "cell_type": "code",
      "execution_count": 56,
      "metadata": {
        "colab": {
          "base_uri": "https://localhost:8080/",
          "height": 125
        },
        "id": "Ta1fgdOjv6N8",
        "outputId": "951f581d-d4d0-4afe-f880-1879bd0b218f"
      },
      "outputs": [
        {
          "data": {
            "text/html": [
              "<div>\n",
              "<style scoped>\n",
              "    .dataframe tbody tr th:only-of-type {\n",
              "        vertical-align: middle;\n",
              "    }\n",
              "\n",
              "    .dataframe tbody tr th {\n",
              "        vertical-align: top;\n",
              "    }\n",
              "\n",
              "    .dataframe thead th {\n",
              "        text-align: right;\n",
              "    }\n",
              "</style>\n",
              "<table border=\"1\" class=\"dataframe\">\n",
              "  <thead>\n",
              "    <tr style=\"text-align: right;\">\n",
              "      <th></th>\n",
              "      <th>Predicted: Income is &gt;$50K</th>\n",
              "      <th>Predicted: Income is &lt;=$50K</th>\n",
              "    </tr>\n",
              "  </thead>\n",
              "  <tbody>\n",
              "    <tr>\n",
              "      <th>Actual: Income is &gt;$50K</th>\n",
              "      <td>371</td>\n",
              "      <td>217</td>\n",
              "    </tr>\n",
              "    <tr>\n",
              "      <th>Actual: Income is &lt;=$50K</th>\n",
              "      <td>138</td>\n",
              "      <td>1243</td>\n",
              "    </tr>\n",
              "  </tbody>\n",
              "</table>\n",
              "</div>"
            ],
            "text/plain": [
              "                          Predicted: Income is >$50K  \\\n",
              "Actual: Income is >$50K                          371   \n",
              "Actual: Income is <=$50K                         138   \n",
              "\n",
              "                          Predicted: Income is <=$50K  \n",
              "Actual: Income is >$50K                           217  \n",
              "Actual: Income is <=$50K                         1243  "
            ]
          },
          "execution_count": 56,
          "metadata": {},
          "output_type": "execute_result"
        }
      ],
      "source": [
        "cm_best = confusion_matrix(y_test, class_label_predictions_best, labels=['True','False'])\n",
        "df_cm_best = pd.DataFrame(cm_best, columns=['Predicted: Income is >$50K', 'Predicted: Income is <=$50K'],\n",
        "                                 index=['Actual: Income is >$50K', 'Actual: Income is <=$50K'])\n",
        "df_cm_best"
      ]
    },
    {
      "cell_type": "code",
      "execution_count": 57,
      "metadata": {
        "id": "PXdnFF1Iv6N8"
      },
      "outputs": [],
      "source": [
        "y_test = y_test.map({'True': 1, 'False': 0}).astype(int)\n",
        "fpr, tpr, thresholds = roc_curve(y_test, proba_predictions)\n",
        "fpr_best, tpr_best, thresholds_best = roc_curve(y_test, proba_predictions_best)"
      ]
    },
    {
      "cell_type": "code",
      "execution_count": 58,
      "metadata": {
        "colab": {
          "base_uri": "https://localhost:8080/",
          "height": 472
        },
        "id": "iPji-whmv6N8",
        "outputId": "49a8d894-5136-4158-eb54-8db4c98021ac"
      },
      "outputs": [
        {
          "data": {
            "image/png": "[encoded data removed]",
            "text/plain": [
              "<Figure size 640x480 with 1 Axes>"
            ]
          },
          "metadata": {},
          "output_type": "display_data"
        }
      ],
      "source": [
        "fig = plt.figure()\n",
        "ax = fig.add_subplot(111)\n",
        "\n",
        "sns.lineplot(x=fpr_best, y=tpr_best, color='r')\n",
        "\n",
        "plt.title(\"ROC AUC Curve for Optimized Logistic Regression Model\")\n",
        "plt.xlabel(\"False positive rate\")\n",
        "plt.ylabel(\"True positive rate\")\n",
        "plt.legend(\"Best hyperparameter\")\n",
        "plt.show()"
      ]
    }
  ],
  "metadata": {
    "colab": {
      "provenance": []
    },
    "kernelspec": {
      "display_name": "Python 3.10.2 64-bit",
      "language": "python",
      "name": "python3"
    },
    "language_info": {
      "codemirror_mode": {
        "name": "ipython",
        "version": 3
      },
      "file_extension": ".py",
      "mimetype": "text/x-python",
      "name": "python",
      "nbconvert_exporter": "python",
      "pygments_lexer": "ipython3",
      "version": "3.12.5"
    },
    "toc": {
      "base_numbering": 1,
      "nav_menu": {},
      "number_sections": false,
      "sideBar": true,
      "skip_h1_title": false,
      "title_cell": "Table of Contents",
      "title_sidebar": "Contents",
      "toc_cell": false,
      "toc_position": {},
      "toc_section_display": true,
      "toc_window_display": false
    },
    "varInspector": {
      "cols": {
        "lenName": 16,
        "lenType": 16,
        "lenVar": 40
      },
      "kernels_config": {
        "python": {
          "delete_cmd_postfix": "",
          "delete_cmd_prefix": "del ",
          "library": "var_list.py",
          "varRefreshCmd": "print(var_dic_list())"
        },
        "r": {
          "delete_cmd_postfix": ") ",
          "delete_cmd_prefix": "rm(",
          "library": "var_list.r",
          "varRefreshCmd": "cat(var_dic_list()) "
        }
      },
      "types_to_exclude": [
        "module",
        "function",
        "builtin_function_or_method",
        "instance",
        "_Feature"
      ],
      "window_display": false
    },
    "vscode": {
      "interpreter": {
        "hash": "aee8b7b246df8f9039afb4144a1f6fd8d2ca17a180786b69acc140d282b71a49"
      }
    }
  },
  "nbformat": 4,
  "nbformat_minor": 0
}
